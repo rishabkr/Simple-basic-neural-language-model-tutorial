{
 "cells": [
  {
   "cell_type": "code",
   "execution_count": 1,
   "metadata": {},
   "outputs": [],
   "source": [
    "from tqdm import tqdm_notebook"
   ]
  },
  {
   "cell_type": "code",
   "execution_count": 2,
   "metadata": {},
   "outputs": [],
   "source": [
    "corpus=['Rishab likes pizza', 'I love gaming', 'Divyansh loves coding','NLP is fun','Chicken is tasty','I love running','Usain runs fast']"
   ]
  },
  {
   "cell_type": "markdown",
   "metadata": {},
   "source": [
    " # Featurize ,Tokenize and labelize"
   ]
  },
  {
   "cell_type": "code",
   "execution_count": 3,
   "metadata": {},
   "outputs": [
    {
     "name": "stderr",
     "output_type": "stream",
     "text": [
      "d:\\python\\lib\\site-packages\\ipykernel_launcher.py:4: TqdmDeprecationWarning: This function will be removed in tqdm==5.0.0\n",
      "Please use `tqdm.notebook.tqdm` instead of `tqdm.tqdm_notebook`\n",
      "  after removing the cwd from sys.path.\n"
     ]
    },
    {
     "data": {
      "application/vnd.jupyter.widget-view+json": {
       "model_id": "3ffa2dda0f5c4ed79d9b74c20fcba048",
       "version_major": 2,
       "version_minor": 0
      },
      "text/plain": [
       "HBox(children=(FloatProgress(value=0.0, max=7.0), HTML(value='')))"
      ]
     },
     "metadata": {},
     "output_type": "display_data"
    },
    {
     "name": "stdout",
     "output_type": "stream",
     "text": [
      "\n"
     ]
    }
   ],
   "source": [
    "vocabulary={} # for storing word to index mapping\n",
    "inputs=[] # for storing the input as indexes\n",
    "\n",
    "for sentences in tqdm_notebook(corpus):\n",
    "    sentence_indexes=[]\n",
    "    \n",
    "    sentences=sentences.split()\n",
    "    \n",
    "    for word in sentences :\n",
    "        if word not in vocabulary:\n",
    "            vocabulary[word] = len(vocabulary)\n",
    "        \n",
    "        sentence_indexes.append(vocabulary[word])\n",
    "        \n",
    "    inputs.append(sentence_indexes)"
   ]
  },
  {
   "cell_type": "markdown",
   "metadata": {},
   "source": [
    "Vocab to index mapping"
   ]
  },
  {
   "cell_type": "code",
   "execution_count": 4,
   "metadata": {},
   "outputs": [
    {
     "name": "stdout",
     "output_type": "stream",
     "text": [
      "{'Rishab': 0, 'likes': 1, 'pizza': 2, 'I': 3, 'love': 4, 'gaming': 5, 'Divyansh': 6, 'loves': 7, 'coding': 8, 'NLP': 9, 'is': 10, 'fun': 11, 'Chicken': 12, 'tasty': 13, 'running': 14, 'Usain': 15, 'runs': 16, 'fast': 17}\n"
     ]
    }
   ],
   "source": [
    "print(vocabulary)"
   ]
  },
  {
   "cell_type": "code",
   "execution_count": 5,
   "metadata": {},
   "outputs": [
    {
     "data": {
      "text/plain": [
       "18"
      ]
     },
     "execution_count": 5,
     "metadata": {},
     "output_type": "execute_result"
    }
   ],
   "source": [
    "len(vocabulary)"
   ]
  },
  {
   "cell_type": "markdown",
   "metadata": {},
   "source": [
    "tokenized and index inputs"
   ]
  },
  {
   "cell_type": "code",
   "execution_count": 6,
   "metadata": {},
   "outputs": [
    {
     "name": "stdout",
     "output_type": "stream",
     "text": [
      "[[0, 1, 2], [3, 4, 5], [6, 7, 8], [9, 10, 11], [12, 10, 13], [3, 4, 14], [15, 16, 17]]\n"
     ]
    }
   ],
   "source": [
    "print(inputs)"
   ]
  },
  {
   "cell_type": "code",
   "execution_count": 7,
   "metadata": {},
   "outputs": [
    {
     "data": {
      "text/plain": [
       "7"
      ]
     },
     "execution_count": 7,
     "metadata": {},
     "output_type": "execute_result"
    }
   ],
   "source": [
    "len(inputs)"
   ]
  },
  {
   "cell_type": "markdown",
   "metadata": {},
   "source": [
    "Convert to feature sequences and labels"
   ]
  },
  {
   "cell_type": "code",
   "execution_count": 8,
   "metadata": {},
   "outputs": [],
   "source": [
    "prefixes = [sentences[:-1] for sentences in inputs]"
   ]
  },
  {
   "cell_type": "code",
   "execution_count": 9,
   "metadata": {},
   "outputs": [
    {
     "data": {
      "text/plain": [
       "[[0, 1], [3, 4], [6, 7], [9, 10], [12, 10], [3, 4], [15, 16]]"
      ]
     },
     "execution_count": 9,
     "metadata": {},
     "output_type": "execute_result"
    }
   ],
   "source": [
    "prefixes"
   ]
  },
  {
   "cell_type": "code",
   "execution_count": 10,
   "metadata": {},
   "outputs": [],
   "source": [
    "labels=[sentences[-1] for sentences in inputs]"
   ]
  },
  {
   "cell_type": "code",
   "execution_count": 11,
   "metadata": {},
   "outputs": [
    {
     "data": {
      "text/plain": [
       "[2, 5, 8, 11, 13, 14, 17]"
      ]
     },
     "execution_count": 11,
     "metadata": {},
     "output_type": "execute_result"
    }
   ],
   "source": [
    "labels"
   ]
  },
  {
   "cell_type": "markdown",
   "metadata": {},
   "source": [
    "Convert to long tensors"
   ]
  },
  {
   "cell_type": "code",
   "execution_count": 12,
   "metadata": {},
   "outputs": [],
   "source": [
    "import torch \n",
    "import torch.nn as nn\n",
    "import torch.nn.functional as f"
   ]
  },
  {
   "cell_type": "code",
   "execution_count": 13,
   "metadata": {},
   "outputs": [],
   "source": [
    "import matplotlib.pyplot as plt\n",
    "import numpy as np\n",
    "import seaborn as sns\n",
    "sns.set()"
   ]
  },
  {
   "cell_type": "code",
   "execution_count": 14,
   "metadata": {},
   "outputs": [],
   "source": [
    "prefixes=torch.LongTensor(prefixes)\n",
    "labels=torch.LongTensor(labels)"
   ]
  },
  {
   "cell_type": "code",
   "execution_count": 15,
   "metadata": {},
   "outputs": [
    {
     "data": {
      "text/plain": [
       "tensor([[ 0,  1],\n",
       "        [ 3,  4],\n",
       "        [ 6,  7],\n",
       "        [ 9, 10],\n",
       "        [12, 10],\n",
       "        [ 3,  4],\n",
       "        [15, 16]])"
      ]
     },
     "execution_count": 15,
     "metadata": {},
     "output_type": "execute_result"
    }
   ],
   "source": [
    "prefixes"
   ]
  },
  {
   "cell_type": "code",
   "execution_count": 16,
   "metadata": {},
   "outputs": [
    {
     "data": {
      "text/plain": [
       "tensor([ 2,  5,  8, 11, 13, 14, 17])"
      ]
     },
     "execution_count": 16,
     "metadata": {},
     "output_type": "execute_result"
    }
   ],
   "source": [
    "labels"
   ]
  },
  {
   "cell_type": "markdown",
   "metadata": {},
   "source": [
    "# Create the neural language model"
   ]
  },
  {
   "cell_type": "markdown",
   "metadata": {},
   "source": [
    "<h2>step by step building of nlm model </h2>"
   ]
  },
  {
   "cell_type": "code",
   "execution_count": 17,
   "metadata": {},
   "outputs": [],
   "source": [
    "class simple_language_model(nn.Module):\n",
    "    \n",
    "    def __init__(self, embedding_dimension,hidden_dimension,\n",
    "                 window_size,vocab_size):\n",
    "        \n",
    "        super(simple_language_model,self).__init__()\n",
    "        \n",
    "        self.embedding_layer=nn.Embedding(vocab_size,embedding_dimension)\n",
    "        \n",
    "        self.hidden_layer1=nn.Linear(embedding_dimension * window_size, hidden_dimension)\n",
    "        \n",
    "        self.hidden_layer2=nn.Linear(hidden_dimension,int(hidden_dimension/2))\n",
    "        \n",
    "        self.output_layer=nn.Linear(int(hidden_dimension/2),vocab_size)\n",
    "        \n",
    "    \n",
    "    def forward(self,inp):\n",
    "        \n",
    "        batch_size,window_size=inp.size()\n",
    "        \n",
    "        embeddings=self.embedding_layer(inp)\n",
    "        \n",
    "        print(embeddings.size())\n",
    "        \n",
    "        "
   ]
  },
  {
   "cell_type": "code",
   "execution_count": 18,
   "metadata": {},
   "outputs": [],
   "source": [
    "nlm_model_test=simple_language_model(embedding_dimension=5,hidden_dimension=14,\n",
    "                               window_size=2,vocab_size=len(vocabulary))"
   ]
  },
  {
   "cell_type": "markdown",
   "metadata": {},
   "source": [
    "for each of the n sentences, of prefix size k and embedding dimension e"
   ]
  },
  {
   "cell_type": "markdown",
   "metadata": {},
   "source": [
    "shape is (n,k,e)"
   ]
  },
  {
   "cell_type": "code",
   "execution_count": 19,
   "metadata": {},
   "outputs": [
    {
     "name": "stdout",
     "output_type": "stream",
     "text": [
      "torch.Size([7, 2, 5])\n"
     ]
    }
   ],
   "source": [
    "nlm_model_test(prefixes)"
   ]
  },
  {
   "cell_type": "code",
   "execution_count": 20,
   "metadata": {},
   "outputs": [],
   "source": [
    "class simple_language_model(nn.Module):\n",
    "    \n",
    "    def __init__(self, embedding_dimension,hidden_dimension,\n",
    "                 window_size,vocab_size):\n",
    "        \n",
    "        super(simple_language_model,self).__init__()\n",
    "        self.embedding_dimension=embedding_dimension\n",
    "        self.hidden_dimension=hidden_dimension\n",
    "        \n",
    "        self.embedding_layer=nn.Embedding(vocab_size,embedding_dimension)\n",
    "        \n",
    "        self.hidden_layer1=nn.Linear(embedding_dimension * window_size, hidden_dimension)\n",
    "        \n",
    "        self.hidden_layer2=nn.Linear(hidden_dimension,int(hidden_dimension/2))\n",
    "        \n",
    "        self.output_layer=nn.Linear(int(hidden_dimension/2),vocab_size)\n",
    "        \n",
    "    \n",
    "    def forward(self,inp):\n",
    "        \n",
    "        batch_size,window_size=inp.size()\n",
    "        \n",
    "        embeddings=self.embedding_layer(inp)\n",
    "        \n",
    "        #concatenate the prefix embeddings\n",
    "        # n x k x e => n *(k*e)\n",
    "        #7 x 2 x 5  => 7 * 10\n",
    "        \n",
    "        flattened_embeddings= embeddings.view(batch_size,window_size * self.embedding_dimension)\n",
    "        \n",
    "        print(f'flattened_embeddins size : {flattened_embeddings.size()}')\n",
    "        print('-'*50)\n",
    "        print(embeddings[0].shape)\n",
    "        print(embeddings[0])\n",
    "        print('-'*50)\n",
    "        print(flattened_embeddings[0].shape)\n",
    "        print(flattened_embeddings[0])"
   ]
  },
  {
   "cell_type": "code",
   "execution_count": 21,
   "metadata": {},
   "outputs": [],
   "source": [
    "nlm_test_2=simple_language_model(embedding_dimension=5,hidden_dimension=14,\n",
    "                               window_size=2,vocab_size=len(vocabulary))"
   ]
  },
  {
   "cell_type": "code",
   "execution_count": 22,
   "metadata": {},
   "outputs": [
    {
     "name": "stdout",
     "output_type": "stream",
     "text": [
      "flattened_embeddins size : torch.Size([7, 10])\n",
      "--------------------------------------------------\n",
      "torch.Size([2, 5])\n",
      "tensor([[ 0.0125, -0.4433,  0.3469,  0.6609,  1.0673],\n",
      "        [-0.4327,  0.8906, -0.0493, -0.1182,  1.0996]],\n",
      "       grad_fn=<SelectBackward>)\n",
      "--------------------------------------------------\n",
      "torch.Size([10])\n",
      "tensor([ 0.0125, -0.4433,  0.3469,  0.6609,  1.0673, -0.4327,  0.8906, -0.0493,\n",
      "        -0.1182,  1.0996], grad_fn=<SelectBackward>)\n"
     ]
    }
   ],
   "source": [
    "nlm_test_2(prefixes)"
   ]
  },
  {
   "cell_type": "code",
   "execution_count": 23,
   "metadata": {},
   "outputs": [],
   "source": [
    "class simple_language_model(nn.Module):\n",
    "    \n",
    "    def __init__(self, embedding_dimension,hidden_dimension,\n",
    "                 window_size,vocab_size):\n",
    "        \n",
    "        super(simple_language_model,self).__init__()\n",
    "        self.embedding_dimension=embedding_dimension\n",
    "        self.hidden_dimension=hidden_dimension\n",
    "        \n",
    "        self.embedding_layer=nn.Embedding(vocab_size,embedding_dimension)\n",
    "        \n",
    "        self.hidden_layer1=nn.Linear(embedding_dimension * window_size, hidden_dimension)\n",
    "        \n",
    "        self.hidden_layer2=nn.Linear(hidden_dimension,int(hidden_dimension/2))\n",
    "        \n",
    "        self.output_layer=nn.Linear(int(hidden_dimension/2),vocab_size)\n",
    "        \n",
    "    \n",
    "    def forward(self,inp):\n",
    "        \n",
    "        batch_size,window_size=inp.size()\n",
    "        \n",
    "        embeddings=self.embedding_layer(inp)\n",
    "        \n",
    "        #concatenate the prefix embeddings\n",
    "        # n x k x e => n *(k*e)\n",
    "        #7 x 2 x 5  => 7 * 10\n",
    "        \n",
    "        flattened_embeddings= embeddings.view(batch_size,window_size * self.embedding_dimension)\n",
    "        \n",
    "        linear_op1=self.hidden_layer1(flattened_embeddings)\n",
    "        print(f'linear layer 1 op size : {linear_op1.size()}')\n",
    "        \n",
    "        linear_op2=self.hidden_layer2(linear_op1)\n",
    "        print(f'linear layer 2 op size : {linear_op2.size()}')\n",
    "        \n",
    "        output=self.output_layer(linear_op2)\n",
    "        print(f'output layer size : {output.size()}')\n",
    "        print('-'*50)\n",
    "        print(output)\n",
    "        "
   ]
  },
  {
   "cell_type": "code",
   "execution_count": 24,
   "metadata": {},
   "outputs": [],
   "source": [
    "nlm_test_3=simple_language_model(embedding_dimension=5,hidden_dimension=14,\n",
    "                               window_size=2,vocab_size=len(vocabulary))"
   ]
  },
  {
   "cell_type": "code",
   "execution_count": 25,
   "metadata": {},
   "outputs": [
    {
     "name": "stdout",
     "output_type": "stream",
     "text": [
      "linear layer 1 op size : torch.Size([7, 14])\n",
      "linear layer 2 op size : torch.Size([7, 7])\n",
      "output layer size : torch.Size([7, 18])\n",
      "--------------------------------------------------\n",
      "tensor([[-1.6439e-01,  9.9236e-02,  2.9029e-01,  4.6701e-01, -3.1879e-01,\n",
      "         -2.6406e-01, -1.1384e-01, -4.8852e-01,  2.3376e-01,  2.6768e-01,\n",
      "         -1.4251e-01, -9.6536e-02, -4.2786e-01, -4.8078e-02,  1.7719e-01,\n",
      "         -3.7736e-01, -1.7406e-01,  2.1032e-01],\n",
      "        [-5.2857e-01,  1.6246e-01,  1.2657e-01,  5.1169e-01, -2.3235e-01,\n",
      "         -2.8238e-01, -1.9139e-01, -4.1641e-01,  1.8845e-01,  7.9509e-02,\n",
      "         -4.5540e-01, -2.7618e-01, -1.3463e-01, -5.9808e-04,  5.3274e-01,\n",
      "         -6.6439e-01, -2.5536e-01,  2.3669e-01],\n",
      "        [-1.3223e-02, -2.8271e-02,  4.6956e-01,  3.8507e-01, -2.7303e-01,\n",
      "         -3.9297e-01, -1.6618e-01, -4.5953e-01,  2.9752e-01,  1.5953e-01,\n",
      "         -2.2679e-01, -1.8754e-01, -4.3761e-01, -1.7526e-01,  1.7318e-01,\n",
      "         -3.4019e-01, -1.5135e-01,  1.7221e-01],\n",
      "        [-6.9574e-02,  8.2979e-02,  2.3815e-01,  4.6584e-01, -2.5813e-01,\n",
      "         -2.5523e-01, -2.1748e-01, -2.8623e-01,  2.9386e-01,  2.8123e-01,\n",
      "          6.2738e-02,  1.5854e-02, -3.6566e-01,  2.5863e-02,  9.5054e-02,\n",
      "         -3.6307e-01, -1.6129e-01,  2.5061e-01],\n",
      "        [-2.3481e-01,  1.4352e-01,  2.8163e-01,  4.4135e-01, -2.8573e-01,\n",
      "         -9.6909e-02, -1.6574e-01, -2.2711e-01,  1.9160e-01,  1.0683e-01,\n",
      "         -1.5953e-01, -1.8089e-01, -3.5588e-01, -1.1824e-02,  3.1847e-01,\n",
      "         -4.0303e-01, -1.8512e-01,  2.5348e-01],\n",
      "        [-5.2857e-01,  1.6246e-01,  1.2657e-01,  5.1169e-01, -2.3235e-01,\n",
      "         -2.8238e-01, -1.9139e-01, -4.1641e-01,  1.8845e-01,  7.9509e-02,\n",
      "         -4.5540e-01, -2.7618e-01, -1.3463e-01, -5.9808e-04,  5.3274e-01,\n",
      "         -6.6439e-01, -2.5536e-01,  2.3669e-01],\n",
      "        [-2.0573e-01,  2.1702e-01,  2.8988e-01,  4.2862e-01, -3.6499e-01,\n",
      "         -1.4081e-01, -1.5821e-01, -2.6445e-01,  1.7399e-01,  2.4417e-01,\n",
      "         -1.9673e-01, -7.3958e-02, -5.3119e-01,  3.5425e-02,  3.1588e-01,\n",
      "         -4.1340e-01, -1.6637e-01,  1.7941e-01]], grad_fn=<AddmmBackward>)\n"
     ]
    }
   ],
   "source": [
    "nlm_test_3(prefixes)"
   ]
  },
  {
   "cell_type": "code",
   "execution_count": 26,
   "metadata": {},
   "outputs": [],
   "source": [
    "class simple_language_model(nn.Module):\n",
    "    \n",
    "    def __init__(self, embedding_dimension,hidden_dimension,\n",
    "                 window_size,vocab_size):\n",
    "        \n",
    "        super(simple_language_model,self).__init__()\n",
    "        self.embedding_dimension=embedding_dimension\n",
    "        self.hidden_dimension=hidden_dimension\n",
    "        \n",
    "        self.embedding_layer=nn.Embedding(vocab_size,embedding_dimension)\n",
    "        \n",
    "        self.hidden_layer1=nn.Linear(embedding_dimension * window_size, hidden_dimension)\n",
    "        \n",
    "        self.hidden_layer2=nn.Linear(hidden_dimension,int(hidden_dimension/2))\n",
    "        \n",
    "        self.output_layer=nn.Linear(int(hidden_dimension/2),vocab_size)\n",
    "        \n",
    "    \n",
    "    def forward(self,inp):\n",
    "        \n",
    "        batch_size,window_size=inp.size()\n",
    "        \n",
    "        embeddings=self.embedding_layer(inp)\n",
    "        \n",
    "        #concatenate the prefix embeddings\n",
    "        # n x k x e => n *(k*e)\n",
    "        #7 x 2 x 5  => 7 * 10\n",
    "        \n",
    "        flattened_embeddings= embeddings.view(batch_size,window_size * self.embedding_dimension)\n",
    "        \n",
    "        linear_op1=self.hidden_layer1(flattened_embeddings)\n",
    "        \n",
    "        linear_op2=self.hidden_layer2(linear_op1)\n",
    "        \n",
    "        output=self.output_layer(linear_op2)\n",
    "        \n",
    "        probabilities=f.softmax(output,dim=1)\n",
    "        print(probabilities)\n",
    "        print('-'*50)\n",
    "        print(f'sum of softmax ops (should be 1) : {probabilities.sum(dim=1)}')\n",
    "        "
   ]
  },
  {
   "cell_type": "code",
   "execution_count": 27,
   "metadata": {},
   "outputs": [],
   "source": [
    "nlm_test_4=simple_language_model(embedding_dimension=5,hidden_dimension=14,\n",
    "                               window_size=2,vocab_size=len(vocabulary))"
   ]
  },
  {
   "cell_type": "code",
   "execution_count": 28,
   "metadata": {},
   "outputs": [
    {
     "name": "stdout",
     "output_type": "stream",
     "text": [
      "tensor([[0.0617, 0.0536, 0.0667, 0.0513, 0.0442, 0.0901, 0.0585, 0.0395, 0.0525,\n",
      "         0.0487, 0.0412, 0.0484, 0.0481, 0.0661, 0.0710, 0.0532, 0.0625, 0.0427],\n",
      "        [0.0671, 0.0643, 0.0672, 0.0453, 0.0510, 0.0963, 0.0670, 0.0483, 0.0524,\n",
      "         0.0399, 0.0462, 0.0531, 0.0526, 0.0441, 0.0487, 0.0631, 0.0551, 0.0386],\n",
      "        [0.0664, 0.0531, 0.0852, 0.0437, 0.0430, 0.0613, 0.0585, 0.0517, 0.0427,\n",
      "         0.0385, 0.0751, 0.0405, 0.0694, 0.0483, 0.0330, 0.0566, 0.0833, 0.0498],\n",
      "        [0.0698, 0.0621, 0.0784, 0.0424, 0.0478, 0.0770, 0.0652, 0.0541, 0.0476,\n",
      "         0.0355, 0.0653, 0.0464, 0.0658, 0.0383, 0.0335, 0.0631, 0.0648, 0.0430],\n",
      "        [0.0721, 0.0648, 0.0808, 0.0341, 0.0549, 0.0819, 0.0681, 0.0580, 0.0440,\n",
      "         0.0300, 0.0693, 0.0526, 0.0644, 0.0320, 0.0234, 0.0702, 0.0590, 0.0402],\n",
      "        [0.0671, 0.0643, 0.0672, 0.0453, 0.0510, 0.0963, 0.0670, 0.0483, 0.0524,\n",
      "         0.0399, 0.0462, 0.0531, 0.0526, 0.0441, 0.0487, 0.0631, 0.0551, 0.0386],\n",
      "        [0.0659, 0.0469, 0.0747, 0.0665, 0.0326, 0.0755, 0.0628, 0.0411, 0.0554,\n",
      "         0.0415, 0.0523, 0.0372, 0.0706, 0.0430, 0.0689, 0.0528, 0.0644, 0.0479]],\n",
      "       grad_fn=<SoftmaxBackward>)\n",
      "--------------------------------------------------\n",
      "sum of softmax ops (should be 1) : tensor([1.0000, 1.0000, 1.0000, 1.0000, 1.0000, 1.0000, 1.0000],\n",
      "       grad_fn=<SumBackward1>)\n"
     ]
    }
   ],
   "source": [
    "nlm_test_4(prefixes)"
   ]
  },
  {
   "cell_type": "markdown",
   "metadata": {},
   "source": [
    "# final model and loss functions,optimizer"
   ]
  },
  {
   "cell_type": "code",
   "execution_count": 29,
   "metadata": {},
   "outputs": [],
   "source": [
    "class simple_language_model(nn.Module):\n",
    "    \n",
    "    def __init__(self, embedding_dimension,hidden_dimension,\n",
    "                 window_size,vocab_size):\n",
    "        \n",
    "        super(simple_language_model,self).__init__()\n",
    "        self.embedding_dimension=embedding_dimension\n",
    "        self.hidden_dimension=hidden_dimension\n",
    "        \n",
    "        self.embedding_layer=nn.Embedding(vocab_size,embedding_dimension)\n",
    "        \n",
    "        self.hidden_layer1=nn.Linear(embedding_dimension * window_size, hidden_dimension)\n",
    "        \n",
    "        self.hidden_layer2=nn.Linear(hidden_dimension,int(hidden_dimension/2))\n",
    "        \n",
    "        self.output_layer=nn.Linear(int(hidden_dimension/2),vocab_size)\n",
    "        \n",
    "    \n",
    "    def forward(self,inp):\n",
    "        \n",
    "        batch_size,window_size=inp.size()\n",
    "        \n",
    "        embeddings=self.embedding_layer(inp)\n",
    "        \n",
    "        #concatenate the prefix embeddings\n",
    "        # n x k x e => n *(k*e)\n",
    "        #7 x 2 x 5  => 7 * 10\n",
    "        \n",
    "        flattened_embeddings= embeddings.view(batch_size,window_size * self.embedding_dimension)\n",
    "        \n",
    "        linear_op1=self.hidden_layer1(flattened_embeddings)\n",
    "        \n",
    "        linear_op2=self.hidden_layer2(linear_op1)\n",
    "        \n",
    "        output=self.output_layer(linear_op2)\n",
    "        \n",
    "        return output #logits"
   ]
  },
  {
   "cell_type": "code",
   "execution_count": 30,
   "metadata": {},
   "outputs": [],
   "source": [
    "nlm_model=simple_language_model(embedding_dimension=5,hidden_dimension=14,\n",
    "                               window_size=2,vocab_size=len(vocabulary))"
   ]
  },
  {
   "cell_type": "code",
   "execution_count": 31,
   "metadata": {},
   "outputs": [],
   "source": [
    "num_epochs=90\n",
    "learning_rate= 0.1\n",
    "\n",
    "\n",
    "loss_criterion=nn.CrossEntropyLoss()\n",
    "optimizer=torch.optim.SGD(params=nlm_model.parameters(),\n",
    "                         lr=learning_rate)"
   ]
  },
  {
   "cell_type": "markdown",
   "metadata": {},
   "source": [
    "# training loop"
   ]
  },
  {
   "cell_type": "code",
   "execution_count": 32,
   "metadata": {},
   "outputs": [
    {
     "name": "stdout",
     "output_type": "stream",
     "text": [
      "Epoch 0/90, Loss 2.9957337379455566\n",
      "Epoch 1/90, Loss 2.9441401958465576\n",
      "Epoch 2/90, Loss 2.8939268589019775\n",
      "Epoch 3/90, Loss 2.8444085121154785\n",
      "Epoch 4/90, Loss 2.794975757598877\n",
      "Epoch 5/90, Loss 2.7450692653656006\n",
      "Epoch 6/90, Loss 2.694162607192993\n",
      "Epoch 7/90, Loss 2.6417553424835205\n",
      "Epoch 8/90, Loss 2.5873589515686035\n",
      "Epoch 9/90, Loss 2.530500888824463\n",
      "Epoch 10/90, Loss 2.47072434425354\n",
      "Epoch 11/90, Loss 2.407597780227661\n",
      "Epoch 12/90, Loss 2.340738534927368\n",
      "Epoch 13/90, Loss 2.269840717315674\n",
      "Epoch 14/90, Loss 2.19472336769104\n",
      "Epoch 15/90, Loss 2.115389347076416\n",
      "Epoch 16/90, Loss 2.0320916175842285\n",
      "Epoch 17/90, Loss 1.9453915357589722\n",
      "Epoch 18/90, Loss 1.8561879396438599\n",
      "Epoch 19/90, Loss 1.7656736373901367\n",
      "Epoch 20/90, Loss 1.6752084493637085\n",
      "Epoch 21/90, Loss 1.5861200094223022\n",
      "Epoch 22/90, Loss 1.4994993209838867\n",
      "Epoch 23/90, Loss 1.4160875082015991\n",
      "Epoch 24/90, Loss 1.3362902402877808\n",
      "Epoch 25/90, Loss 1.2602933645248413\n",
      "Epoch 26/90, Loss 1.1881943941116333\n",
      "Epoch 27/90, Loss 1.1200941801071167\n",
      "Epoch 28/90, Loss 1.0561292171478271\n",
      "Epoch 29/90, Loss 0.9964560270309448\n",
      "Epoch 30/90, Loss 0.9412079453468323\n",
      "Epoch 31/90, Loss 0.8904477953910828\n",
      "Epoch 32/90, Loss 0.8441299200057983\n",
      "Epoch 33/90, Loss 0.8020862340927124\n",
      "Epoch 34/90, Loss 0.7640341520309448\n",
      "Epoch 35/90, Loss 0.7296029925346375\n",
      "Epoch 36/90, Loss 0.6983703374862671\n",
      "Epoch 37/90, Loss 0.6698991656303406\n",
      "Epoch 38/90, Loss 0.6437711119651794\n",
      "Epoch 39/90, Loss 0.6196085810661316\n",
      "Epoch 40/90, Loss 0.5970895886421204\n",
      "Epoch 41/90, Loss 0.5759496092796326\n",
      "Epoch 42/90, Loss 0.5559806823730469\n",
      "Epoch 43/90, Loss 0.5370232462882996\n",
      "Epoch 44/90, Loss 0.5189594030380249\n",
      "Epoch 45/90, Loss 0.5017043948173523\n",
      "Epoch 46/90, Loss 0.4852001368999481\n",
      "Epoch 47/90, Loss 0.469408243894577\n",
      "Epoch 48/90, Loss 0.4543052315711975\n",
      "Epoch 49/90, Loss 0.43987783789634705\n",
      "Epoch 50/90, Loss 0.4261191189289093\n",
      "Epoch 51/90, Loss 0.4130255877971649\n",
      "Epoch 52/90, Loss 0.40059447288513184\n",
      "Epoch 53/90, Loss 0.38882192969322205\n",
      "Epoch 54/90, Loss 0.3777018189430237\n",
      "Epoch 55/90, Loss 0.36722442507743835\n",
      "Epoch 56/90, Loss 0.35737648606300354\n",
      "Epoch 57/90, Loss 0.3481411039829254\n",
      "Epoch 58/90, Loss 0.339497834444046\n",
      "Epoch 59/90, Loss 0.3314233124256134\n",
      "Epoch 60/90, Loss 0.32389160990715027\n",
      "Epoch 61/90, Loss 0.316875159740448\n",
      "Epoch 62/90, Loss 0.3103451430797577\n",
      "Epoch 63/90, Loss 0.3042721748352051\n",
      "Epoch 64/90, Loss 0.298627108335495\n",
      "Epoch 65/90, Loss 0.2933809161186218\n",
      "Epoch 66/90, Loss 0.2885056138038635\n",
      "Epoch 67/90, Loss 0.2839741110801697\n",
      "Epoch 68/90, Loss 0.27976080775260925\n",
      "Epoch 69/90, Loss 0.275841623544693\n",
      "Epoch 70/90, Loss 0.2721933424472809\n",
      "Epoch 71/90, Loss 0.268794983625412\n",
      "Epoch 72/90, Loss 0.2656269967556\n",
      "Epoch 73/90, Loss 0.2626707851886749\n",
      "Epoch 74/90, Loss 0.2599097788333893\n",
      "Epoch 75/90, Loss 0.2573283612728119\n",
      "Epoch 76/90, Loss 0.25491243600845337\n",
      "Epoch 77/90, Loss 0.2526490092277527\n",
      "Epoch 78/90, Loss 0.2505260109901428\n",
      "Epoch 79/90, Loss 0.24853262305259705\n",
      "Epoch 80/90, Loss 0.24665892124176025\n",
      "Epoch 81/90, Loss 0.2448958158493042\n",
      "Epoch 82/90, Loss 0.24323485791683197\n",
      "Epoch 83/90, Loss 0.2416684925556183\n",
      "Epoch 84/90, Loss 0.2401898354291916\n",
      "Epoch 85/90, Loss 0.2387925088405609\n",
      "Epoch 86/90, Loss 0.23747055232524872\n",
      "Epoch 87/90, Loss 0.23621878027915955\n",
      "Epoch 88/90, Loss 0.23503220081329346\n",
      "Epoch 89/90, Loss 0.23390625417232513\n"
     ]
    }
   ],
   "source": [
    "losses=[]\n",
    "\n",
    "for epoch in range(num_epochs):\n",
    "    \n",
    "    outputs=nlm_model(prefixes)\n",
    "    \n",
    "    loss=loss_criterion(outputs,labels)\n",
    "    \n",
    "    #compute gradient\n",
    "    loss.backward()\n",
    "    \n",
    "    #backpropagate and flush out the gradients for next epoch\n",
    "    optimizer.step()\n",
    "    optimizer.zero_grad()\n",
    "    \n",
    "    print(f'Epoch {epoch}/{num_epochs}, Loss {loss.item()}')\n",
    "    losses.append(loss.item())"
   ]
  },
  {
   "cell_type": "code",
   "execution_count": 33,
   "metadata": {},
   "outputs": [
    {
     "data": {
      "image/png": "[encoded data removed]",
      "text/plain": [
       "<Figure size 432x288 with 1 Axes>"
      ]
     },
     "metadata": {},
     "output_type": "display_data"
    }
   ],
   "source": [
    "plt.plot(losses)\n",
    "plt.ylabel('Loss')\n",
    "plt.xlabel('Num Epochs')\n",
    "plt.show()"
   ]
  },
  {
   "cell_type": "markdown",
   "metadata": {},
   "source": [
    "# test time"
   ]
  },
  {
   "cell_type": "code",
   "execution_count": 34,
   "metadata": {},
   "outputs": [],
   "source": [
    "#idx to word\n",
    "reverse_vocabulary = dict((idx, word )  for (word,idx) in vocabulary.items()) "
   ]
  },
  {
   "cell_type": "code",
   "execution_count": 35,
   "metadata": {},
   "outputs": [
    {
     "name": "stdout",
     "output_type": "stream",
     "text": [
      "{0: 'Rishab', 1: 'likes', 2: 'pizza', 3: 'I', 4: 'love', 5: 'gaming', 6: 'Divyansh', 7: 'loves', 8: 'coding', 9: 'NLP', 10: 'is', 11: 'fun', 12: 'Chicken', 13: 'tasty', 14: 'running', 15: 'Usain', 16: 'runs', 17: 'fast'}\n"
     ]
    }
   ],
   "source": [
    "print(reverse_vocabulary)"
   ]
  },
  {
   "cell_type": "code",
   "execution_count": 36,
   "metadata": {},
   "outputs": [
    {
     "name": "stdout",
     "output_type": "stream",
     "text": [
      "Input is \"Rishab likes\" , the model predicts \"pizza\" with 0.9796783924102783 probability\n"
     ]
    }
   ],
   "source": [
    "rish_likes= prefixes[0].unsqueeze(0) #to add a dummy dim for nn model\n",
    "#print(test_item.shape)\n",
    "\n",
    "test_op=nlm_model(rish_likes)\n",
    "\n",
    "probab=f.softmax(test_op,dim=1).squeeze()\n",
    "\n",
    "pred_word=torch.argmax(probab).item()\n",
    "\n",
    "print(f'Input is \"Rishab likes\" , the model predicts \"{reverse_vocabulary[pred_word]}\" with {probab[pred_word]} probability')\n",
    "\n"
   ]
  },
  {
   "cell_type": "code",
   "execution_count": 37,
   "metadata": {},
   "outputs": [
    {
     "name": "stdout",
     "output_type": "stream",
     "text": [
      "Input is \"Usain runs\" , the model predicts \"fast\" with 0.986263632774353 probability\n"
     ]
    }
   ],
   "source": [
    "usain= prefixes[6].unsqueeze(0) #to add a dummy dim for nn model\n",
    "#print(test_item.shape)\n",
    "\n",
    "test_op=nlm_model(usain)\n",
    "\n",
    "probab=f.softmax(test_op,dim=1).squeeze()\n",
    "\n",
    "pred_word=torch.argmax(probab).item()\n",
    "\n",
    "print(f'Input is \"Usain runs\" , the model predicts \"{reverse_vocabulary[pred_word]}\" with {probab[pred_word]} probability')\n",
    "\n"
   ]
  },
  {
   "cell_type": "code",
   "execution_count": 39,
   "metadata": {},
   "outputs": [
    {
     "name": "stdout",
     "output_type": "stream",
     "text": [
      "Input is \"Divyansh likes\" , the model predicts \"coding\" with 0.9468822479248047 probability\n"
     ]
    }
   ],
   "source": [
    "div= prefixes[2].unsqueeze(0) #to add a dummy dim for nn model\n",
    "#print(test_item.shape)\n",
    "\n",
    "test_op=nlm_model(div)\n",
    "\n",
    "probab=f.softmax(test_op,dim=1).squeeze()\n",
    "\n",
    "pred_word=torch.argmax(probab).item()\n",
    "\n",
    "print(f'Input is \"Divyansh likes\" , the model predicts \"{reverse_vocabulary[pred_word]}\" with {probab[pred_word]} probability')\n",
    "\n"
   ]
  },
  {
   "cell_type": "code",
   "execution_count": null,
   "metadata": {},
   "outputs": [],
   "source": []
  },
  {
   "cell_type": "code",
   "execution_count": null,
   "metadata": {},
   "outputs": [],
   "source": []
  },
  {
   "cell_type": "code",
   "execution_count": null,
   "metadata": {},
   "outputs": [],
   "source": []
  }
 ],
 "metadata": {
  "kernelspec": {
   "display_name": "Python 3",
   "language": "python",
   "name": "python3"
  },
  "language_info": {
   "codemirror_mode": {
    "name": "ipython",
    "version": 3
   },
   "file_extension": ".py",
   "mimetype": "text/x-python",
   "name": "python",
   "nbconvert_exporter": "python",
   "pygments_lexer": "ipython3",
   "version": "3.7.7"
  }
 },
 "nbformat": 4,
 "nbformat_minor": 4
}
